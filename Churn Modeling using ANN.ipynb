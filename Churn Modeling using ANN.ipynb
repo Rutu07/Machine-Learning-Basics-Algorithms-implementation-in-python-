{
 "cells": [
  {
   "cell_type": "code",
   "execution_count": 54,
   "id": "97e34667",
   "metadata": {},
   "outputs": [],
   "source": [
    "import tensorflow as tf"
   ]
  },
  {
   "cell_type": "code",
   "execution_count": 55,
   "id": "d9c8a063",
   "metadata": {},
   "outputs": [],
   "source": [
    "import pandas as pd\n",
    "import numpy as np\n",
    "import matplotlib.pyplot as plt"
   ]
  },
  {
   "cell_type": "code",
   "execution_count": 56,
   "id": "1424b156",
   "metadata": {},
   "outputs": [],
   "source": [
    "dataset=pd.read_csv('Churn_Modelling.csv')"
   ]
  },
  {
   "cell_type": "code",
   "execution_count": 57,
   "id": "96d00807",
   "metadata": {},
   "outputs": [
    {
     "data": {
      "text/html": [
       "<div>\n",
       "<style scoped>\n",
       "    .dataframe tbody tr th:only-of-type {\n",
       "        vertical-align: middle;\n",
       "    }\n",
       "\n",
       "    .dataframe tbody tr th {\n",
       "        vertical-align: top;\n",
       "    }\n",
       "\n",
       "    .dataframe thead th {\n",
       "        text-align: right;\n",
       "    }\n",
       "</style>\n",
       "<table border=\"1\" class=\"dataframe\">\n",
       "  <thead>\n",
       "    <tr style=\"text-align: right;\">\n",
       "      <th></th>\n",
       "      <th>RowNumber</th>\n",
       "      <th>CustomerId</th>\n",
       "      <th>Surname</th>\n",
       "      <th>CreditScore</th>\n",
       "      <th>Geography</th>\n",
       "      <th>Gender</th>\n",
       "      <th>Age</th>\n",
       "      <th>Tenure</th>\n",
       "      <th>Balance</th>\n",
       "      <th>NumOfProducts</th>\n",
       "      <th>HasCrCard</th>\n",
       "      <th>IsActiveMember</th>\n",
       "      <th>EstimatedSalary</th>\n",
       "      <th>Exited</th>\n",
       "    </tr>\n",
       "  </thead>\n",
       "  <tbody>\n",
       "    <tr>\n",
       "      <th>0</th>\n",
       "      <td>1</td>\n",
       "      <td>15634602</td>\n",
       "      <td>Hargrave</td>\n",
       "      <td>619</td>\n",
       "      <td>France</td>\n",
       "      <td>Female</td>\n",
       "      <td>42</td>\n",
       "      <td>2</td>\n",
       "      <td>0.00</td>\n",
       "      <td>1</td>\n",
       "      <td>1</td>\n",
       "      <td>1</td>\n",
       "      <td>101348.88</td>\n",
       "      <td>1</td>\n",
       "    </tr>\n",
       "    <tr>\n",
       "      <th>1</th>\n",
       "      <td>2</td>\n",
       "      <td>15647311</td>\n",
       "      <td>Hill</td>\n",
       "      <td>608</td>\n",
       "      <td>Spain</td>\n",
       "      <td>Female</td>\n",
       "      <td>41</td>\n",
       "      <td>1</td>\n",
       "      <td>83807.86</td>\n",
       "      <td>1</td>\n",
       "      <td>0</td>\n",
       "      <td>1</td>\n",
       "      <td>112542.58</td>\n",
       "      <td>0</td>\n",
       "    </tr>\n",
       "    <tr>\n",
       "      <th>2</th>\n",
       "      <td>3</td>\n",
       "      <td>15619304</td>\n",
       "      <td>Onio</td>\n",
       "      <td>502</td>\n",
       "      <td>France</td>\n",
       "      <td>Female</td>\n",
       "      <td>42</td>\n",
       "      <td>8</td>\n",
       "      <td>159660.80</td>\n",
       "      <td>3</td>\n",
       "      <td>1</td>\n",
       "      <td>0</td>\n",
       "      <td>113931.57</td>\n",
       "      <td>1</td>\n",
       "    </tr>\n",
       "    <tr>\n",
       "      <th>3</th>\n",
       "      <td>4</td>\n",
       "      <td>15701354</td>\n",
       "      <td>Boni</td>\n",
       "      <td>699</td>\n",
       "      <td>France</td>\n",
       "      <td>Female</td>\n",
       "      <td>39</td>\n",
       "      <td>1</td>\n",
       "      <td>0.00</td>\n",
       "      <td>2</td>\n",
       "      <td>0</td>\n",
       "      <td>0</td>\n",
       "      <td>93826.63</td>\n",
       "      <td>0</td>\n",
       "    </tr>\n",
       "    <tr>\n",
       "      <th>4</th>\n",
       "      <td>5</td>\n",
       "      <td>15737888</td>\n",
       "      <td>Mitchell</td>\n",
       "      <td>850</td>\n",
       "      <td>Spain</td>\n",
       "      <td>Female</td>\n",
       "      <td>43</td>\n",
       "      <td>2</td>\n",
       "      <td>125510.82</td>\n",
       "      <td>1</td>\n",
       "      <td>1</td>\n",
       "      <td>1</td>\n",
       "      <td>79084.10</td>\n",
       "      <td>0</td>\n",
       "    </tr>\n",
       "  </tbody>\n",
       "</table>\n",
       "</div>"
      ],
      "text/plain": [
       "   RowNumber  CustomerId   Surname  CreditScore Geography  Gender  Age  \\\n",
       "0          1    15634602  Hargrave          619    France  Female   42   \n",
       "1          2    15647311      Hill          608     Spain  Female   41   \n",
       "2          3    15619304      Onio          502    France  Female   42   \n",
       "3          4    15701354      Boni          699    France  Female   39   \n",
       "4          5    15737888  Mitchell          850     Spain  Female   43   \n",
       "\n",
       "   Tenure    Balance  NumOfProducts  HasCrCard  IsActiveMember  \\\n",
       "0       2       0.00              1          1               1   \n",
       "1       1   83807.86              1          0               1   \n",
       "2       8  159660.80              3          1               0   \n",
       "3       1       0.00              2          0               0   \n",
       "4       2  125510.82              1          1               1   \n",
       "\n",
       "   EstimatedSalary  Exited  \n",
       "0        101348.88       1  \n",
       "1        112542.58       0  \n",
       "2        113931.57       1  \n",
       "3         93826.63       0  \n",
       "4         79084.10       0  "
      ]
     },
     "execution_count": 57,
     "metadata": {},
     "output_type": "execute_result"
    }
   ],
   "source": [
    "dataset.head()"
   ]
  },
  {
   "cell_type": "code",
   "execution_count": 58,
   "id": "f9ab89e9",
   "metadata": {},
   "outputs": [],
   "source": [
    "#Divide the dataset into independent and dependent features"
   ]
  },
  {
   "cell_type": "code",
   "execution_count": 59,
   "id": "8c2e8610",
   "metadata": {},
   "outputs": [],
   "source": [
    "X=dataset.iloc[:,3:13]\n",
    "y=dataset.iloc[:,13]"
   ]
  },
  {
   "cell_type": "code",
   "execution_count": 60,
   "id": "4ed89597",
   "metadata": {},
   "outputs": [
    {
     "data": {
      "text/plain": [
       "France     5014\n",
       "Germany    2509\n",
       "Spain      2477\n",
       "Name: Geography, dtype: int64"
      ]
     },
     "execution_count": 60,
     "metadata": {},
     "output_type": "execute_result"
    }
   ],
   "source": [
    "#Feature Engineering\n",
    "dataset['Geography'].value_counts()"
   ]
  },
  {
   "cell_type": "code",
   "execution_count": 61,
   "id": "3b62825f",
   "metadata": {},
   "outputs": [],
   "source": [
    "geography=pd.get_dummies(X['Geography'],drop_first=True)\n",
    "gender=pd.get_dummies(X['Gender'],drop_first=True)"
   ]
  },
  {
   "cell_type": "code",
   "execution_count": 62,
   "id": "e8870b39",
   "metadata": {},
   "outputs": [],
   "source": [
    "X=X.drop(['Geography','Gender'],axis=1)"
   ]
  },
  {
   "cell_type": "code",
   "execution_count": 63,
   "id": "4de1c944",
   "metadata": {},
   "outputs": [
    {
     "data": {
      "text/html": [
       "<div>\n",
       "<style scoped>\n",
       "    .dataframe tbody tr th:only-of-type {\n",
       "        vertical-align: middle;\n",
       "    }\n",
       "\n",
       "    .dataframe tbody tr th {\n",
       "        vertical-align: top;\n",
       "    }\n",
       "\n",
       "    .dataframe thead th {\n",
       "        text-align: right;\n",
       "    }\n",
       "</style>\n",
       "<table border=\"1\" class=\"dataframe\">\n",
       "  <thead>\n",
       "    <tr style=\"text-align: right;\">\n",
       "      <th></th>\n",
       "      <th>CreditScore</th>\n",
       "      <th>Age</th>\n",
       "      <th>Tenure</th>\n",
       "      <th>Balance</th>\n",
       "      <th>NumOfProducts</th>\n",
       "      <th>HasCrCard</th>\n",
       "      <th>IsActiveMember</th>\n",
       "      <th>EstimatedSalary</th>\n",
       "    </tr>\n",
       "  </thead>\n",
       "  <tbody>\n",
       "    <tr>\n",
       "      <th>0</th>\n",
       "      <td>619</td>\n",
       "      <td>42</td>\n",
       "      <td>2</td>\n",
       "      <td>0.00</td>\n",
       "      <td>1</td>\n",
       "      <td>1</td>\n",
       "      <td>1</td>\n",
       "      <td>101348.88</td>\n",
       "    </tr>\n",
       "    <tr>\n",
       "      <th>1</th>\n",
       "      <td>608</td>\n",
       "      <td>41</td>\n",
       "      <td>1</td>\n",
       "      <td>83807.86</td>\n",
       "      <td>1</td>\n",
       "      <td>0</td>\n",
       "      <td>1</td>\n",
       "      <td>112542.58</td>\n",
       "    </tr>\n",
       "    <tr>\n",
       "      <th>2</th>\n",
       "      <td>502</td>\n",
       "      <td>42</td>\n",
       "      <td>8</td>\n",
       "      <td>159660.80</td>\n",
       "      <td>3</td>\n",
       "      <td>1</td>\n",
       "      <td>0</td>\n",
       "      <td>113931.57</td>\n",
       "    </tr>\n",
       "    <tr>\n",
       "      <th>3</th>\n",
       "      <td>699</td>\n",
       "      <td>39</td>\n",
       "      <td>1</td>\n",
       "      <td>0.00</td>\n",
       "      <td>2</td>\n",
       "      <td>0</td>\n",
       "      <td>0</td>\n",
       "      <td>93826.63</td>\n",
       "    </tr>\n",
       "    <tr>\n",
       "      <th>4</th>\n",
       "      <td>850</td>\n",
       "      <td>43</td>\n",
       "      <td>2</td>\n",
       "      <td>125510.82</td>\n",
       "      <td>1</td>\n",
       "      <td>1</td>\n",
       "      <td>1</td>\n",
       "      <td>79084.10</td>\n",
       "    </tr>\n",
       "  </tbody>\n",
       "</table>\n",
       "</div>"
      ],
      "text/plain": [
       "   CreditScore  Age  Tenure    Balance  NumOfProducts  HasCrCard  \\\n",
       "0          619   42       2       0.00              1          1   \n",
       "1          608   41       1   83807.86              1          0   \n",
       "2          502   42       8  159660.80              3          1   \n",
       "3          699   39       1       0.00              2          0   \n",
       "4          850   43       2  125510.82              1          1   \n",
       "\n",
       "   IsActiveMember  EstimatedSalary  \n",
       "0               1        101348.88  \n",
       "1               1        112542.58  \n",
       "2               0        113931.57  \n",
       "3               0         93826.63  \n",
       "4               1         79084.10  "
      ]
     },
     "execution_count": 63,
     "metadata": {},
     "output_type": "execute_result"
    }
   ],
   "source": [
    "X.head()"
   ]
  },
  {
   "cell_type": "code",
   "execution_count": 64,
   "id": "049dc9d1",
   "metadata": {},
   "outputs": [
    {
     "data": {
      "text/html": [
       "<div>\n",
       "<style scoped>\n",
       "    .dataframe tbody tr th:only-of-type {\n",
       "        vertical-align: middle;\n",
       "    }\n",
       "\n",
       "    .dataframe tbody tr th {\n",
       "        vertical-align: top;\n",
       "    }\n",
       "\n",
       "    .dataframe thead th {\n",
       "        text-align: right;\n",
       "    }\n",
       "</style>\n",
       "<table border=\"1\" class=\"dataframe\">\n",
       "  <thead>\n",
       "    <tr style=\"text-align: right;\">\n",
       "      <th></th>\n",
       "      <th>CreditScore</th>\n",
       "      <th>Age</th>\n",
       "      <th>Tenure</th>\n",
       "      <th>Balance</th>\n",
       "      <th>NumOfProducts</th>\n",
       "      <th>HasCrCard</th>\n",
       "      <th>IsActiveMember</th>\n",
       "      <th>EstimatedSalary</th>\n",
       "      <th>Germany</th>\n",
       "      <th>Spain</th>\n",
       "      <th>Male</th>\n",
       "    </tr>\n",
       "  </thead>\n",
       "  <tbody>\n",
       "    <tr>\n",
       "      <th>0</th>\n",
       "      <td>619</td>\n",
       "      <td>42</td>\n",
       "      <td>2</td>\n",
       "      <td>0.00</td>\n",
       "      <td>1</td>\n",
       "      <td>1</td>\n",
       "      <td>1</td>\n",
       "      <td>101348.88</td>\n",
       "      <td>0</td>\n",
       "      <td>0</td>\n",
       "      <td>0</td>\n",
       "    </tr>\n",
       "    <tr>\n",
       "      <th>1</th>\n",
       "      <td>608</td>\n",
       "      <td>41</td>\n",
       "      <td>1</td>\n",
       "      <td>83807.86</td>\n",
       "      <td>1</td>\n",
       "      <td>0</td>\n",
       "      <td>1</td>\n",
       "      <td>112542.58</td>\n",
       "      <td>0</td>\n",
       "      <td>1</td>\n",
       "      <td>0</td>\n",
       "    </tr>\n",
       "    <tr>\n",
       "      <th>2</th>\n",
       "      <td>502</td>\n",
       "      <td>42</td>\n",
       "      <td>8</td>\n",
       "      <td>159660.80</td>\n",
       "      <td>3</td>\n",
       "      <td>1</td>\n",
       "      <td>0</td>\n",
       "      <td>113931.57</td>\n",
       "      <td>0</td>\n",
       "      <td>0</td>\n",
       "      <td>0</td>\n",
       "    </tr>\n",
       "    <tr>\n",
       "      <th>3</th>\n",
       "      <td>699</td>\n",
       "      <td>39</td>\n",
       "      <td>1</td>\n",
       "      <td>0.00</td>\n",
       "      <td>2</td>\n",
       "      <td>0</td>\n",
       "      <td>0</td>\n",
       "      <td>93826.63</td>\n",
       "      <td>0</td>\n",
       "      <td>0</td>\n",
       "      <td>0</td>\n",
       "    </tr>\n",
       "    <tr>\n",
       "      <th>4</th>\n",
       "      <td>850</td>\n",
       "      <td>43</td>\n",
       "      <td>2</td>\n",
       "      <td>125510.82</td>\n",
       "      <td>1</td>\n",
       "      <td>1</td>\n",
       "      <td>1</td>\n",
       "      <td>79084.10</td>\n",
       "      <td>0</td>\n",
       "      <td>1</td>\n",
       "      <td>0</td>\n",
       "    </tr>\n",
       "    <tr>\n",
       "      <th>...</th>\n",
       "      <td>...</td>\n",
       "      <td>...</td>\n",
       "      <td>...</td>\n",
       "      <td>...</td>\n",
       "      <td>...</td>\n",
       "      <td>...</td>\n",
       "      <td>...</td>\n",
       "      <td>...</td>\n",
       "      <td>...</td>\n",
       "      <td>...</td>\n",
       "      <td>...</td>\n",
       "    </tr>\n",
       "    <tr>\n",
       "      <th>9995</th>\n",
       "      <td>771</td>\n",
       "      <td>39</td>\n",
       "      <td>5</td>\n",
       "      <td>0.00</td>\n",
       "      <td>2</td>\n",
       "      <td>1</td>\n",
       "      <td>0</td>\n",
       "      <td>96270.64</td>\n",
       "      <td>0</td>\n",
       "      <td>0</td>\n",
       "      <td>1</td>\n",
       "    </tr>\n",
       "    <tr>\n",
       "      <th>9996</th>\n",
       "      <td>516</td>\n",
       "      <td>35</td>\n",
       "      <td>10</td>\n",
       "      <td>57369.61</td>\n",
       "      <td>1</td>\n",
       "      <td>1</td>\n",
       "      <td>1</td>\n",
       "      <td>101699.77</td>\n",
       "      <td>0</td>\n",
       "      <td>0</td>\n",
       "      <td>1</td>\n",
       "    </tr>\n",
       "    <tr>\n",
       "      <th>9997</th>\n",
       "      <td>709</td>\n",
       "      <td>36</td>\n",
       "      <td>7</td>\n",
       "      <td>0.00</td>\n",
       "      <td>1</td>\n",
       "      <td>0</td>\n",
       "      <td>1</td>\n",
       "      <td>42085.58</td>\n",
       "      <td>0</td>\n",
       "      <td>0</td>\n",
       "      <td>0</td>\n",
       "    </tr>\n",
       "    <tr>\n",
       "      <th>9998</th>\n",
       "      <td>772</td>\n",
       "      <td>42</td>\n",
       "      <td>3</td>\n",
       "      <td>75075.31</td>\n",
       "      <td>2</td>\n",
       "      <td>1</td>\n",
       "      <td>0</td>\n",
       "      <td>92888.52</td>\n",
       "      <td>1</td>\n",
       "      <td>0</td>\n",
       "      <td>1</td>\n",
       "    </tr>\n",
       "    <tr>\n",
       "      <th>9999</th>\n",
       "      <td>792</td>\n",
       "      <td>28</td>\n",
       "      <td>4</td>\n",
       "      <td>130142.79</td>\n",
       "      <td>1</td>\n",
       "      <td>1</td>\n",
       "      <td>0</td>\n",
       "      <td>38190.78</td>\n",
       "      <td>0</td>\n",
       "      <td>0</td>\n",
       "      <td>0</td>\n",
       "    </tr>\n",
       "  </tbody>\n",
       "</table>\n",
       "<p>10000 rows × 11 columns</p>\n",
       "</div>"
      ],
      "text/plain": [
       "      CreditScore  Age  Tenure    Balance  NumOfProducts  HasCrCard  \\\n",
       "0             619   42       2       0.00              1          1   \n",
       "1             608   41       1   83807.86              1          0   \n",
       "2             502   42       8  159660.80              3          1   \n",
       "3             699   39       1       0.00              2          0   \n",
       "4             850   43       2  125510.82              1          1   \n",
       "...           ...  ...     ...        ...            ...        ...   \n",
       "9995          771   39       5       0.00              2          1   \n",
       "9996          516   35      10   57369.61              1          1   \n",
       "9997          709   36       7       0.00              1          0   \n",
       "9998          772   42       3   75075.31              2          1   \n",
       "9999          792   28       4  130142.79              1          1   \n",
       "\n",
       "      IsActiveMember  EstimatedSalary  Germany  Spain  Male  \n",
       "0                  1        101348.88        0      0     0  \n",
       "1                  1        112542.58        0      1     0  \n",
       "2                  0        113931.57        0      0     0  \n",
       "3                  0         93826.63        0      0     0  \n",
       "4                  1         79084.10        0      1     0  \n",
       "...              ...              ...      ...    ...   ...  \n",
       "9995               0         96270.64        0      0     1  \n",
       "9996               1        101699.77        0      0     1  \n",
       "9997               1         42085.58        0      0     0  \n",
       "9998               0         92888.52        1      0     1  \n",
       "9999               0         38190.78        0      0     0  \n",
       "\n",
       "[10000 rows x 11 columns]"
      ]
     },
     "execution_count": 64,
     "metadata": {},
     "output_type": "execute_result"
    }
   ],
   "source": [
    "pd.concat([X,geography,gender],axis=1)"
   ]
  },
  {
   "cell_type": "code",
   "execution_count": 65,
   "id": "1675897d",
   "metadata": {},
   "outputs": [],
   "source": [
    "from sklearn.model_selection import train_test_split"
   ]
  },
  {
   "cell_type": "code",
   "execution_count": 66,
   "id": "e98706c3",
   "metadata": {},
   "outputs": [],
   "source": [
    "X_train,X_test,y_train,y_test=train_test_split(X,y,test_size=0.2,random_state=42)"
   ]
  },
  {
   "cell_type": "code",
   "execution_count": 67,
   "id": "8f65a79a",
   "metadata": {},
   "outputs": [],
   "source": [
    "from sklearn.preprocessing import StandardScaler"
   ]
  },
  {
   "cell_type": "code",
   "execution_count": 68,
   "id": "ae14bc1d",
   "metadata": {},
   "outputs": [],
   "source": [
    "sc=StandardScaler()\n",
    "X_train=sc.fit_transform(X_train)\n",
    "X_test=sc.transform(X_test)\n",
    "#X_train,X_test"
   ]
  },
  {
   "cell_type": "code",
   "execution_count": 71,
   "id": "52e3873c",
   "metadata": {},
   "outputs": [
    {
     "data": {
      "text/plain": [
       "array([[ 0.35649971, -0.6557859 ,  0.34567966, ...,  0.64920267,\n",
       "         0.97481699,  1.36766974],\n",
       "       [-0.20389777,  0.29493847, -0.3483691 , ...,  0.64920267,\n",
       "         0.97481699,  1.6612541 ],\n",
       "       [-0.96147213, -1.41636539, -0.69539349, ...,  0.64920267,\n",
       "        -1.02583358, -0.25280688],\n",
       "       ...,\n",
       "       [ 0.86500853, -0.08535128, -1.38944225, ..., -1.54035103,\n",
       "        -1.02583358, -0.1427649 ],\n",
       "       [ 0.15932282,  0.3900109 ,  1.03972843, ...,  0.64920267,\n",
       "        -1.02583358, -0.05082558],\n",
       "       [ 0.47065475,  1.15059039, -1.38944225, ...,  0.64920267,\n",
       "         0.97481699, -0.81456811]])"
      ]
     },
     "execution_count": 71,
     "metadata": {},
     "output_type": "execute_result"
    }
   ],
   "source": [
    "X_train"
   ]
  },
  {
   "cell_type": "code",
   "execution_count": 72,
   "id": "701de9a2",
   "metadata": {},
   "outputs": [
    {
     "data": {
      "text/plain": [
       "array([[-0.57749609, -0.6557859 , -0.69539349, ..., -1.54035103,\n",
       "        -1.02583358, -1.01960511],\n",
       "       [-0.29729735,  0.3900109 , -1.38944225, ...,  0.64920267,\n",
       "         0.97481699,  0.79888291],\n",
       "       [-0.52560743,  0.48508334, -0.3483691 , ...,  0.64920267,\n",
       "        -1.02583358, -0.72797953],\n",
       "       ...,\n",
       "       [ 0.81311987,  0.77030065,  0.69270405, ...,  0.64920267,\n",
       "        -1.02583358, -1.16591585],\n",
       "       [ 0.41876609, -0.94100321, -0.3483691 , ...,  0.64920267,\n",
       "        -1.02583358, -0.41163463],\n",
       "       [-0.24540869,  0.00972116, -1.38944225, ...,  0.64920267,\n",
       "         0.97481699,  0.12593183]])"
      ]
     },
     "execution_count": 72,
     "metadata": {},
     "output_type": "execute_result"
    }
   ],
   "source": [
    "X_test"
   ]
  },
  {
   "cell_type": "code",
   "execution_count": 73,
   "id": "922b235f",
   "metadata": {},
   "outputs": [
    {
     "data": {
      "text/plain": [
       "(8000, 8)"
      ]
     },
     "execution_count": 73,
     "metadata": {},
     "output_type": "execute_result"
    }
   ],
   "source": [
    "X_train.shape"
   ]
  },
  {
   "cell_type": "code",
   "execution_count": 74,
   "id": "41cdbafb",
   "metadata": {},
   "outputs": [],
   "source": [
    "#Lets create the ANN"
   ]
  },
  {
   "cell_type": "code",
   "execution_count": 78,
   "id": "611c196d",
   "metadata": {},
   "outputs": [],
   "source": [
    "from tensorflow.keras.models import Sequential\n",
    "from tensorflow.keras.layers import Dense\n",
    "from tensorflow.keras.layers import LeakyReLU,PReLU,ELU,ReLU\n",
    "from tensorflow.keras.layers import Dropout"
   ]
  },
  {
   "cell_type": "code",
   "execution_count": 79,
   "id": "06f2eace",
   "metadata": {},
   "outputs": [],
   "source": [
    "#Let's initialize the ANN\n",
    "classifier=Sequential()"
   ]
  },
  {
   "cell_type": "code",
   "execution_count": 80,
   "id": "3615bdd0",
   "metadata": {},
   "outputs": [],
   "source": [
    "#Adding the input layer\n",
    "classifier.add(Dense(units=11,activation='relu')) #11=number of inputs\n",
    "\n",
    "# adding 1st hidden layer\n",
    "classifier.add(Dense(units=7,activation='relu'))\n",
    "\n",
    "# adding 2nd hidden layer\n",
    "classifier.add(Dense(units=6,activation='relu'))\n",
    "\n",
    "#Adding the output layer\n",
    "classifier.add(Dense(1,activation='sigmoid')) #sigmoid because this is binary classification problem"
   ]
  },
  {
   "cell_type": "code",
   "execution_count": 86,
   "id": "d3a09b69",
   "metadata": {},
   "outputs": [],
   "source": [
    "classifier.compile(optimizer='adam',loss='binary_crossentropy',metrics=['accuracy']) #by default adam provides a learning rate of 0.01"
   ]
  },
  {
   "cell_type": "code",
   "execution_count": 84,
   "id": "16ad997b",
   "metadata": {},
   "outputs": [],
   "source": [
    "#To initialize learning rate:\n",
    "tensorflow.keras.optimizers.Adam(learning_rate=0.01)"
   ]
  },
  {
   "cell_type": "code",
   "execution_count": 97,
   "id": "86fe00cd",
   "metadata": {},
   "outputs": [],
   "source": [
    "## Early Stopping: When accuracy of model is not increaasing anymore, stop\n",
    "\n",
    "\n",
    "\n",
    "early_stopping=tf.keras.callbacks.EarlyStopping(\n",
    "    monitor=\"val_loss\",\n",
    "    min_delta=0.0001,\n",
    "    patience=20,\n",
    "    verbose=1,\n",
    "    mode=\"auto\",\n",
    "    baseline=None,\n",
    "    restore_best_weights=False,\n",
    ")\n",
    "\n"
   ]
  },
  {
   "cell_type": "code",
   "execution_count": 99,
   "id": "72c1841a",
   "metadata": {},
   "outputs": [
    {
     "name": "stdout",
     "output_type": "stream",
     "text": [
      "Epoch 1/1000\n",
      "536/536 [==============================] - 1s 943us/step - loss: 0.3202 - accuracy: 0.8726 - val_loss: 0.3884 - val_accuracy: 0.8425\n",
      "Epoch 2/1000\n",
      "536/536 [==============================] - 0s 929us/step - loss: 0.3197 - accuracy: 0.8714 - val_loss: 0.3869 - val_accuracy: 0.8410\n",
      "Epoch 3/1000\n",
      "536/536 [==============================] - 0s 923us/step - loss: 0.3204 - accuracy: 0.8705 - val_loss: 0.3912 - val_accuracy: 0.8398\n",
      "Epoch 4/1000\n",
      "536/536 [==============================] - 0s 879us/step - loss: 0.3187 - accuracy: 0.8701 - val_loss: 0.3899 - val_accuracy: 0.8410\n",
      "Epoch 5/1000\n",
      "536/536 [==============================] - 0s 884us/step - loss: 0.3194 - accuracy: 0.8690 - val_loss: 0.3885 - val_accuracy: 0.8429\n",
      "Epoch 6/1000\n",
      "536/536 [==============================] - 1s 935us/step - loss: 0.3196 - accuracy: 0.8694 - val_loss: 0.3898 - val_accuracy: 0.8395\n",
      "Epoch 7/1000\n",
      "536/536 [==============================] - 1s 1ms/step - loss: 0.3191 - accuracy: 0.8684 - val_loss: 0.3883 - val_accuracy: 0.8391\n",
      "Epoch 8/1000\n",
      "536/536 [==============================] - 1s 965us/step - loss: 0.3195 - accuracy: 0.8711 - val_loss: 0.3840 - val_accuracy: 0.8387\n",
      "Epoch 9/1000\n",
      "536/536 [==============================] - 0s 887us/step - loss: 0.3192 - accuracy: 0.8709 - val_loss: 0.3869 - val_accuracy: 0.8376\n",
      "Epoch 10/1000\n",
      "536/536 [==============================] - 1s 982us/step - loss: 0.3187 - accuracy: 0.8716 - val_loss: 0.3889 - val_accuracy: 0.8417\n",
      "Epoch 11/1000\n",
      "536/536 [==============================] - 1s 1ms/step - loss: 0.3191 - accuracy: 0.8690 - val_loss: 0.3873 - val_accuracy: 0.8410\n",
      "Epoch 12/1000\n",
      "536/536 [==============================] - 0s 877us/step - loss: 0.3199 - accuracy: 0.8703 - val_loss: 0.3916 - val_accuracy: 0.8406\n",
      "Epoch 13/1000\n",
      "536/536 [==============================] - 0s 891us/step - loss: 0.3197 - accuracy: 0.8705 - val_loss: 0.3908 - val_accuracy: 0.8421\n",
      "Epoch 14/1000\n",
      "536/536 [==============================] - 0s 902us/step - loss: 0.3186 - accuracy: 0.8690 - val_loss: 0.3881 - val_accuracy: 0.8429\n",
      "Epoch 15/1000\n",
      "536/536 [==============================] - 0s 909us/step - loss: 0.3194 - accuracy: 0.8705 - val_loss: 0.3871 - val_accuracy: 0.8425\n",
      "Epoch 16/1000\n",
      "536/536 [==============================] - 1s 940us/step - loss: 0.3193 - accuracy: 0.8701 - val_loss: 0.3892 - val_accuracy: 0.8432\n",
      "Epoch 17/1000\n",
      "536/536 [==============================] - 0s 912us/step - loss: 0.3196 - accuracy: 0.8712 - val_loss: 0.3852 - val_accuracy: 0.8429\n",
      "Epoch 18/1000\n",
      "536/536 [==============================] - 0s 901us/step - loss: 0.3198 - accuracy: 0.8688 - val_loss: 0.3890 - val_accuracy: 0.8410\n",
      "Epoch 19/1000\n",
      "536/536 [==============================] - 1s 943us/step - loss: 0.3192 - accuracy: 0.8690 - val_loss: 0.3891 - val_accuracy: 0.8406\n",
      "Epoch 20/1000\n",
      "536/536 [==============================] - 1s 932us/step - loss: 0.3178 - accuracy: 0.8655 - val_loss: 0.3904 - val_accuracy: 0.8451\n",
      "Epoch 21/1000\n",
      "536/536 [==============================] - 0s 875us/step - loss: 0.3196 - accuracy: 0.8679 - val_loss: 0.3866 - val_accuracy: 0.8395\n",
      "Epoch 22/1000\n",
      "536/536 [==============================] - 0s 897us/step - loss: 0.3182 - accuracy: 0.8705 - val_loss: 0.3876 - val_accuracy: 0.8413\n",
      "Epoch 23/1000\n",
      "536/536 [==============================] - 0s 885us/step - loss: 0.3194 - accuracy: 0.8683 - val_loss: 0.3878 - val_accuracy: 0.8402\n",
      "Epoch 24/1000\n",
      "536/536 [==============================] - 0s 887us/step - loss: 0.3193 - accuracy: 0.8675 - val_loss: 0.3922 - val_accuracy: 0.8440\n",
      "Epoch 25/1000\n",
      "536/536 [==============================] - 0s 908us/step - loss: 0.3191 - accuracy: 0.8675 - val_loss: 0.3900 - val_accuracy: 0.8379\n",
      "Epoch 26/1000\n",
      "536/536 [==============================] - 0s 919us/step - loss: 0.3184 - accuracy: 0.8683 - val_loss: 0.3902 - val_accuracy: 0.8448\n",
      "Epoch 27/1000\n",
      "536/536 [==============================] - 0s 929us/step - loss: 0.3188 - accuracy: 0.8698 - val_loss: 0.3875 - val_accuracy: 0.8432\n",
      "Epoch 28/1000\n",
      "536/536 [==============================] - 1s 961us/step - loss: 0.3198 - accuracy: 0.8679 - val_loss: 0.3879 - val_accuracy: 0.8413\n",
      "Epoch 28: early stopping\n"
     ]
    }
   ],
   "source": [
    "model_history=classifier.fit(X_train,y_train,validation_split=0.33,batch_size=10,epochs=1000,callbacks=early_stopping)"
   ]
  },
  {
   "cell_type": "code",
   "execution_count": 100,
   "id": "575492a6",
   "metadata": {},
   "outputs": [
    {
     "data": {
      "text/plain": [
       "dict_keys(['loss', 'accuracy', 'val_loss', 'val_accuracy'])"
      ]
     },
     "execution_count": 100,
     "metadata": {},
     "output_type": "execute_result"
    }
   ],
   "source": [
    "#what should be my epohc? Why early stopping?\n",
    "\n",
    "model_history.history.keys()"
   ]
  },
  {
   "cell_type": "code",
   "execution_count": 102,
   "id": "e5bacd51",
   "metadata": {},
   "outputs": [
    {
     "data": {
      "image/png": "[encoded data removed]",
      "text/plain": [
       "<Figure size 432x288 with 1 Axes>"
      ]
     },
     "metadata": {
      "needs_background": "light"
     },
     "output_type": "display_data"
    }
   ],
   "source": [
    "plt.plot(model_history.history['accuracy'])\n",
    "plt.plot(model_history.history['val_accuracy'])\n",
    "plt.title('model accuracy')\n",
    "plt.ylabel('accuracy')\n",
    "plt.xlabel('epoch')\n",
    "plt.legend(['train','test'],loc='upper left')\n",
    "plt.show()"
   ]
  },
  {
   "cell_type": "code",
   "execution_count": 103,
   "id": "a495c70d",
   "metadata": {},
   "outputs": [
    {
     "data": {
      "image/png": "[encoded data removed]",
      "text/plain": [
       "<Figure size 432x288 with 1 Axes>"
      ]
     },
     "metadata": {
      "needs_background": "light"
     },
     "output_type": "display_data"
    }
   ],
   "source": [
    "plt.plot(model_history.history['loss'])\n",
    "plt.plot(model_history.history['val_loss'])\n",
    "plt.title('model accuracy')\n",
    "plt.ylabel('accuracy')\n",
    "plt.xlabel('epoch')\n",
    "plt.legend(['train','test'],loc='upper left')\n",
    "plt.show()"
   ]
  },
  {
   "cell_type": "code",
   "execution_count": 106,
   "id": "17e83aee",
   "metadata": {},
   "outputs": [],
   "source": [
    "#Make Predictions\n",
    "\n",
    "y_pred=classifier.predict(X_test)\n",
    "y_pred=(y_pred>0.5)"
   ]
  },
  {
   "cell_type": "code",
   "execution_count": 108,
   "id": "4f5cc3a0",
   "metadata": {},
   "outputs": [],
   "source": [
    "#Make the confusion matrix\n",
    "\n",
    "from sklearn.metrics import confusion_matrix\n",
    "cm=confusion_matrix(y_test,y_pred)"
   ]
  },
  {
   "cell_type": "code",
   "execution_count": 109,
   "id": "c38c8beb",
   "metadata": {},
   "outputs": [
    {
     "data": {
      "text/plain": [
       "array([[1529,   78],\n",
       "       [ 224,  169]], dtype=int64)"
      ]
     },
     "execution_count": 109,
     "metadata": {},
     "output_type": "execute_result"
    }
   ],
   "source": [
    "cm"
   ]
  },
  {
   "cell_type": "code",
   "execution_count": 111,
   "id": "a0c28fa2",
   "metadata": {},
   "outputs": [],
   "source": [
    "#Calculate the accuracy\n",
    "from sklearn.metrics import accuracy_score\n",
    "score=accuracy_score(y_test,y_pred)"
   ]
  },
  {
   "cell_type": "code",
   "execution_count": 112,
   "id": "b2e2ab8a",
   "metadata": {},
   "outputs": [
    {
     "data": {
      "text/plain": [
       "0.849"
      ]
     },
     "execution_count": 112,
     "metadata": {},
     "output_type": "execute_result"
    }
   ],
   "source": [
    "score"
   ]
  },
  {
   "cell_type": "code",
   "execution_count": null,
   "id": "932e730f",
   "metadata": {},
   "outputs": [],
   "source": [
    "from sklearn.metrics import "
   ]
  },
  {
   "cell_type": "code",
   "execution_count": 115,
   "id": "c031bba8",
   "metadata": {},
   "outputs": [
    {
     "data": {
      "text/plain": [
       "[array([[ 3.9962056e-01,  3.6506897e-01, -1.2744587e-02,  4.8279110e-02,\n",
       "         -4.2292774e-03,  2.2326109e-01, -9.4109625e-03, -1.7688271e-01,\n",
       "          1.5226717e-01,  1.6586727e-01, -4.5766407e-01],\n",
       "        [-3.6558107e-01, -6.0679948e-01,  1.0530874e+00, -9.9568909e-01,\n",
       "         -6.1081594e-01, -1.1176466e+00,  3.7737629e-01, -5.4566079e-01,\n",
       "          7.1001306e-02, -1.2453418e-01, -1.0134344e+00],\n",
       "        [-9.1314888e-01, -3.7591666e-01, -7.0982277e-02,  7.6742955e-02,\n",
       "         -1.3884847e-01,  9.3095982e-03,  1.4592408e-01, -8.8176537e-01,\n",
       "          1.3431087e-01, -1.1030372e-01,  1.0920815e-01],\n",
       "        [-4.5570961e-01,  8.9755142e-01,  3.8030723e-01,  9.1453455e-02,\n",
       "          6.9929659e-01,  3.1941488e-01, -1.2395792e-02,  1.6116920e-01,\n",
       "         -4.0450343e-01,  4.8222843e-01,  3.3231369e-01],\n",
       "        [ 1.0136025e+00, -6.5788156e-01,  4.9041852e-01,  2.2771847e-04,\n",
       "         -2.6893440e-01, -5.0191101e-02, -1.4086862e+00, -3.0071563e-01,\n",
       "          8.0406082e-01,  1.4703313e+00, -2.2424957e-01],\n",
       "        [ 4.5930108e-01, -5.3869408e-01,  4.7915784e-01,  1.5355010e+00,\n",
       "         -5.7260215e-01, -4.7921884e-01, -1.4798561e-01, -6.4503521e-02,\n",
       "         -1.1964229e+00, -5.4022226e-02, -9.3797821e-01],\n",
       "        [-6.0919512e-02,  5.8104044e-01,  1.0806010e+00, -3.7283528e-01,\n",
       "         -5.7295662e-01, -5.2771604e-01, -8.8780618e-01,  8.0298167e-01,\n",
       "          4.0477532e-01, -1.3504326e-01, -3.2432333e-01],\n",
       "        [-3.9393133e-01, -3.2788455e-01,  3.8272873e-01, -1.9014692e-01,\n",
       "          1.0446937e+00, -2.3236329e-04,  8.0633990e-02, -8.1062376e-01,\n",
       "         -5.3985101e-01, -1.6615819e-02, -6.1080307e-01]], dtype=float32),\n",
       " array([-0.07026958, -0.14412668, -0.19437626,  0.3908841 , -0.23415688,\n",
       "         0.71071136,  0.20160219, -0.5244722 , -0.46275   , -0.442355  ,\n",
       "        -0.04895781], dtype=float32),\n",
       " array([[-0.10601918,  0.08367403, -0.21065132,  0.9931632 ,  0.49115318,\n",
       "          1.2158426 , -0.3095824 ],\n",
       "        [ 0.6323958 , -0.05721593, -0.11527471, -1.044416  , -0.07697096,\n",
       "          1.1104603 ,  0.04769327],\n",
       "        [-0.291048  ,  0.5399502 ,  0.30700195,  0.94969785,  0.92625123,\n",
       "         -0.4433249 , -0.36801136],\n",
       "        [-1.4606745 , -0.72568834,  0.6303575 , -0.6690446 ,  0.31637046,\n",
       "         -0.8094607 ,  0.0147738 ],\n",
       "        [-0.14300382, -0.07145076,  0.4910392 ,  1.0673417 ,  0.3511946 ,\n",
       "          0.6318868 , -0.4106094 ],\n",
       "        [-0.6834795 ,  0.03142846, -0.28171855, -0.8842838 , -0.09572193,\n",
       "         -0.88931257, -0.59787756],\n",
       "        [ 0.4563628 ,  1.0264388 ,  0.8744485 , -0.13072331,  0.23024246,\n",
       "          0.35224414,  0.7883473 ],\n",
       "        [-3.5050724 ,  0.24210586,  0.14748879,  0.4211162 ,  0.25245696,\n",
       "         -0.30269554,  0.6097564 ],\n",
       "        [-0.28182   ,  0.20348977,  0.48993263, -0.7124207 ,  0.8674726 ,\n",
       "         -0.5962286 ,  0.6275563 ],\n",
       "        [ 0.7263319 ,  0.03610027, -6.2046905 ,  0.877612  , -0.5189521 ,\n",
       "          0.7244097 ,  0.93295753],\n",
       "        [ 0.07023726, -3.9766295 , -0.44362953, -0.15774696, -0.12537536,\n",
       "         -0.17121647, -0.22076777]], dtype=float32),\n",
       " array([ 0.14187157, -0.3311271 , -0.47672594,  0.40611225,  0.2613106 ,\n",
       "         0.42675832, -0.26083767], dtype=float32),\n",
       " array([[-6.0658795e-01, -4.9240909e+00,  4.1554731e-01, -1.0850899e+00,\n",
       "          5.2956504e-01,  7.1292222e-01],\n",
       "        [ 3.9450458e-01, -1.6866384e+00,  2.0680289e-01, -1.8774325e-01,\n",
       "         -1.9544510e-02, -1.4089978e-01],\n",
       "        [ 5.0387394e-01, -3.2532921e-01, -1.6420567e-01, -8.8658375e-01,\n",
       "         -8.4331822e-01,  1.1501455e-01],\n",
       "        [ 8.0943626e-01,  8.4318876e-01, -6.3809472e-01, -2.2908676e-01,\n",
       "          1.2469025e+00, -1.0567093e+00],\n",
       "        [ 1.0099188e-01,  3.6090195e-01,  2.4676444e-01, -2.0155657e-02,\n",
       "         -8.4433264e-01,  6.1948490e-01],\n",
       "        [-6.8402386e-01, -1.9360739e-01,  9.8995012e-01,  9.8452699e-01,\n",
       "          6.4873177e-01, -2.4027202e-01],\n",
       "        [-2.0326177e-02, -2.9378307e-01,  5.1756245e-01, -1.9709179e-03,\n",
       "          9.8290259e-01, -5.0085825e-01]], dtype=float32),\n",
       " array([-0.73401964,  0.5042201 ,  0.0177159 ,  1.0503697 ,  0.54489297,\n",
       "         0.701542  ], dtype=float32),\n",
       " array([[-0.587282 ],\n",
       "        [-1.6614529],\n",
       "        [ 0.5028433],\n",
       "        [-1.5638883],\n",
       "        [ 1.4132026],\n",
       "        [-0.8165467]], dtype=float32),\n",
       " array([0.6630362], dtype=float32)]"
      ]
     },
     "execution_count": 115,
     "metadata": {},
     "output_type": "execute_result"
    }
   ],
   "source": [
    "#Get weights\n",
    "classifier.get_weights()"
   ]
  },
  {
   "cell_type": "code",
   "execution_count": null,
   "id": "f441e6be",
   "metadata": {},
   "outputs": [],
   "source": []
  }
 ],
 "metadata": {
  "kernelspec": {
   "display_name": "Python 3 (ipykernel)",
   "language": "python",
   "name": "python3"
  },
  "language_info": {
   "codemirror_mode": {
    "name": "ipython",
    "version": 3
   },
   "file_extension": ".py",
   "mimetype": "text/x-python",
   "name": "python",
   "nbconvert_exporter": "python",
   "pygments_lexer": "ipython3",
   "version": "3.9.7"
  }
 },
 "nbformat": 4,
 "nbformat_minor": 5
}
